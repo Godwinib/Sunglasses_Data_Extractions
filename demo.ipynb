{
 "cells": [
  {
   "cell_type": "code",
   "execution_count": 7,
   "id": "f417fe72",
   "metadata": {},
   "outputs": [],
   "source": [
    "# Libraries Used\n",
    "import csv\n",
    "import json\n",
    "from selenium import webdriver\n",
    "from selenium.webdriver.chrome.service import Service\n",
    "from selenium.webdriver.chrome.options import Options\n",
    "from selenium.webdriver.common.by import By\n",
    "from selenium.webdriver.support.ui import WebDriverWait as WDW\n",
    "from selenium.webdriver.support import expected_conditions as EC\n",
    "from webdriver_manager.chrome import ChromeDriverManager\n",
    "from bs4 import BeautifulSoup"
   ]
  },
  {
   "cell_type": "code",
   "execution_count": 8,
   "id": "73e0dc4e",
   "metadata": {},
   "outputs": [
    {
     "name": "stdout",
     "output_type": "stream",
     "text": [
      "setting the webdriver...\n",
      "done setting up..\n"
     ]
    }
   ],
   "source": [
    "# Setup selenium and webdriver\n",
    "# Step 1 - Configuration and Data Fetching\n",
    "# Setup Selenium and WebDriver\n",
    "print(\"setting the webdriver...\")\n",
    "\n",
    "chrome_option = Options()\n",
    "chrome_option.add_argument('--headless')\n",
    "chrome_option.add_argument('--disable-gpu')\n",
    "chrome_option.add_argument(\n",
    "    \"user-agent=Mozilla/5.0 (Windows NT 10.0; Win64; x64) AppleWebKit/537.36 (KHTML, like Gecko) Chrome/131.0.6778.265 Safari/537.36\"\n",
    ")\n",
    "print(\"done setting up..\")\n"
   ]
  },
  {
   "cell_type": "code",
   "execution_count": 9,
   "id": "d0e30869",
   "metadata": {},
   "outputs": [
    {
     "name": "stdout",
     "output_type": "stream",
     "text": [
      "Installing Chrome WD\n",
      "Final Setup\n",
      "Done\n"
     ]
    }
   ],
   "source": [
    "# Install the chrome driver (This is a one time thing)\n",
    "print(\"Installing Chrome WD\")\n",
    "service = Service(ChromeDriverManager().install())\n",
    "print(\"Final Setup\")\n",
    "driver = webdriver.Chrome(service=service, options=chrome_option)\n",
    "print(\"Done\")"
   ]
  },
  {
   "cell_type": "code",
   "execution_count": 10,
   "id": "7827375e",
   "metadata": {},
   "outputs": [
    {
     "name": "stdout",
     "output_type": "stream",
     "text": [
      "Visting webpage: https://www.glasses.com/gl-us/eyeglasses\n",
      "Waiting for product tiles to load\n",
      "Done...Proceed to parse the data\n"
     ]
    }
   ],
   "source": [
    "# Make connection and get URL content\n",
    "target_url = \"https://www.glasses.com/gl-us/eyeglasses\"\n",
    "print(f\"Visting webpage: {target_url}\")\n",
    "driver.get(target_url)\n",
    "\n",
    "# Further instruction: wait for JS to load the files\n",
    "try:\n",
    "    print(\"Waiting for product tiles to load\")\n",
    "    WDW(driver, 15).until(\n",
    "        EC.presence_of_element_located((By.CLASS_NAME, 'catalog-page'))\n",
    "    )\n",
    "    print(\"Done...Proceed to parse the data\")\n",
    "\n",
    "except (TimeoutError, Exception) as e:\n",
    "    print(f\"Error waiting for {target_url}: {e}\")\n",
    "    driver.quit()\n",
    "    print(\"Closed\")"
   ]
  },
  {
   "cell_type": "code",
   "execution_count": 11,
   "id": "003b0f49",
   "metadata": {},
   "outputs": [],
   "source": [
    "# Step 2 - Data Parsing and Extraction\n",
    "# Get page source and parse using BeautifulSoup\n",
    "content = driver.page_source\n",
    "page = BeautifulSoup(content, 'html.parser')"
   ]
  },
  {
   "cell_type": "code",
   "execution_count": 12,
   "id": "22ebffb0",
   "metadata": {},
   "outputs": [
    {
     "name": "stdout",
     "output_type": "stream",
     "text": [
      "Found 26 products\n"
     ]
    }
   ],
   "source": [
    "# Temporary storage for the extracted data\n",
    "glasses_data = []\n",
    "\n",
    "# Locate all product tiles and extract the data for each product.\n",
    "product_tiles = page.find_all(\"a\", class_='product-tile')\n",
    "print(f\"Found {len(product_tiles)} products\")"
   ]
  },
  {
   "cell_type": "code",
   "execution_count": 13,
   "id": "64bf5c8b",
   "metadata": {},
   "outputs": [],
   "source": [
    "for tile in product_tiles:\n",
    "    product_info = tile.find('div', class_='product-info')\n",
    "\n",
    "    if product_info:\n",
    "        brand_tag = product_info.find('div', class_='product-brand')\n",
    "        brand = brand_tag.text if brand_tag else None # product brand\n",
    "\n",
    "        name_tag = product_info.find('div', class_='product-code')\n",
    "        name = name_tag.text if name_tag else None\n",
    " # for price\n",
    "        price_cnt = product_info.find('div', class_='product-prices')\n",
    "        if price_cnt:\n",
    "            # Former Price\n",
    "            former_price_tag = price_cnt.find('div', class_='product-list-price')\n",
    "            former_price = former_price_tag.text if former_price_tag else None\n",
    "            # Current Price\n",
    "            current_price_tag = price_cnt.find('div', class_='product-offer-price')\n",
    "            current_price = current_price_tag.text if current_price_tag else None\n",
    "        else:\n",
    "            former_price = current_price = None\n",
    "    else:\n",
    "        brand = name = former_price = current_price = None \n",
    "        # Automatically applies missing value, if the product info is not available.\n",
    "    \n",
    "    discount_tag = tile.find('div', class_='product-badge discount-badge thirty')\n",
    "    discount = discount_tag.text if discount_tag else None"
   ]
  },
  {
   "cell_type": "code",
   "execution_count": 14,
   "id": "a74b5fd1",
   "metadata": {},
   "outputs": [],
   "source": [
    " # Assignment: Add the category\n",
    "            \n",
    "data = {\n",
    "        'Brand': brand,\n",
    "        'Product_Name': name,\n",
    "        'Former_Price': former_price,\n",
    "        'Current_Price': current_price,\n",
    "        'Discount': discount\n",
    "    }\n",
    "    # Append data to the list\n",
    "glasses_data.append(data)\n"
   ]
  },
  {
   "cell_type": "code",
   "execution_count": 15,
   "id": "38a8310b",
   "metadata": {},
   "outputs": [
    {
     "name": "stdout",
     "output_type": "stream",
     "text": [
      "Saved 1 records to CSV\n"
     ]
    }
   ],
   "source": [
    "# Step 3 - Data Storage and Finalization\n",
    "# Save to CSV file\n",
    "column_name = glasses_data[0].keys() # get the column names\n",
    "with open('glassesdotcom_data.csv', mode='w', newline='', encoding='utf-8') as csv_file: # open up the file with context manager\n",
    "    dict_writer = csv.DictWriter(csv_file, fieldnames=column_name)\n",
    "    dict_writer.writeheader()\n",
    "    dict_writer.writerows(glasses_data)\n",
    "print(f\"Saved {len(glasses_data)} records to CSV\")"
   ]
  },
  {
   "cell_type": "code",
   "execution_count": 16,
   "id": "fc95bfbb",
   "metadata": {},
   "outputs": [
    {
     "name": "stdout",
     "output_type": "stream",
     "text": [
      "Saved 1 records to JSON\n",
      "End of Web Extraction\n"
     ]
    }
   ],
   "source": [
    "# Save to JSON file\n",
    "with open(\"glassesdotcom.json\", mode='w') as json_file:\n",
    "    json.dump(glasses_data, json_file, indent=4)\n",
    "print(f\"Saved {len(glasses_data)} records to JSON\")\n",
    "\n",
    "# close the browser\n",
    "driver.quit()\n",
    "print(\"End of Web Extraction\")"
   ]
  }
 ],
 "metadata": {
  "kernelspec": {
   "display_name": "venv",
   "language": "python",
   "name": "python3"
  },
  "language_info": {
   "codemirror_mode": {
    "name": "ipython",
    "version": 3
   },
   "file_extension": ".py",
   "mimetype": "text/x-python",
   "name": "python",
   "nbconvert_exporter": "python",
   "pygments_lexer": "ipython3",
   "version": "3.13.7"
  }
 },
 "nbformat": 4,
 "nbformat_minor": 5
}
